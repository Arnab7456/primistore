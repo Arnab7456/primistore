{
 "cells": [
  {
   "cell_type": "code",
   "execution_count": 1,
   "id": "26db54d7",
   "metadata": {},
   "outputs": [],
   "source": [
    "import cv2\n",
    "import numpy as np\n",
    "from collections import defaultdict\n",
    "import json\n",
    "import glob\n",
    "import os\n",
    "from tqdm.notebook import tqdm"
   ]
  },
  {
   "cell_type": "code",
   "execution_count": 2,
   "id": "00e216e5",
   "metadata": {},
   "outputs": [],
   "source": [
    "def convert_strict_bw(img):\n",
    "    img_new = img.copy()\n",
    "    img_new[img_new < 100] = 0\n",
    "    img_new[img_new >= 100] = 255\n",
    "    \n",
    "    return img_new"
   ]
  },
  {
   "cell_type": "code",
   "execution_count": 3,
   "id": "2960c773",
   "metadata": {},
   "outputs": [],
   "source": [
    "def get_row_stats(img):\n",
    "    row_indices = []\n",
    "    current_row = 0\n",
    "    fetched_cols = False\n",
    "    rows, cols = img.shape\n",
    "    \n",
    "    row_stats = defaultdict(list)\n",
    "    for i in range(rows):\n",
    "        this_row = img[i, :]\n",
    "        if np.all(np.unique(this_row) == this_row[0]): # ignore all white rows\n",
    "            continue\n",
    "\n",
    "        values, counts = np.unique(this_row, return_counts=True)\n",
    "        black_ratio = counts[0] / counts.sum()\n",
    "        if black_ratio > 0.8: # ignore all black rows (horizontal lines separating boxes)\n",
    "            continue\n",
    "\n",
    "        row_indices.append(i)\n",
    "        if len(row_indices) > 2 and row_indices[-1] - row_indices[-2] > 1: # if index was skipped that means horizontal lines were there\n",
    "            current_row += 1\n",
    "\n",
    "        current_value = row_stats.get(current_row, (-1, -1))[1]\n",
    "        black_count = counts[0]\n",
    "        if black_count > current_value:\n",
    "            row_stats[current_row] = ((i, black_count))\n",
    "            \n",
    "    return row_stats"
   ]
  },
  {
   "cell_type": "code",
   "execution_count": 4,
   "id": "e106ae00",
   "metadata": {},
   "outputs": [],
   "source": [
    "def decode_values(row_stats, img):\n",
    "    data = []\n",
    "\n",
    "    for row_idx, val in row_stats.items():\n",
    "        img_row_idx, _ = val\n",
    "        this_row = img[img_row_idx, :]\n",
    "        zeros = np.where(this_row == 0)\n",
    "        zeros_diff = np.diff(zeros)\n",
    "        zeros_diff = zeros_diff[zeros_diff > 1]\n",
    "\n",
    "        max_val = max(zeros_diff)\n",
    "        threshold = max_val - (max_val % 10)\n",
    "\n",
    "        i = 0\n",
    "        inner_data = []\n",
    "        while i < len(zeros_diff):\n",
    "            if zeros_diff[i] < threshold:\n",
    "                inner_data.append(1)\n",
    "                i += 2\n",
    "            else:\n",
    "                inner_data.append(0)\n",
    "                i += 1\n",
    "        data.append(inner_data)\n",
    "\n",
    "    data_arr = np.array(data)\n",
    "    \n",
    "    return data_arr"
   ]
  },
  {
   "cell_type": "code",
   "execution_count": 5,
   "id": "3c1b4523",
   "metadata": {},
   "outputs": [],
   "source": [
    "def decode_memory(img_path):\n",
    "    img = cv2.imread(img_path, cv2.IMREAD_GRAYSCALE)\n",
    "    \n",
    "    strict_bw = convert_strict_bw(img)\n",
    "    row_stats = get_row_stats(strict_bw)\n",
    "    data_arr = decode_values(row_stats, strict_bw)\n",
    "    \n",
    "    return data_arr"
   ]
  },
  {
   "cell_type": "code",
   "execution_count": 6,
   "id": "66263693",
   "metadata": {},
   "outputs": [],
   "source": [
    "data_arr = decode_memory(\"image-5fb512ca-4d50-497c-9ec8-2056461f8d17.jpg\")"
   ]
  },
  {
   "cell_type": "code",
   "execution_count": 7,
   "id": "34abc3a9",
   "metadata": {},
   "outputs": [
    {
     "data": {
      "text/plain": [
       "array([0, 0, 0, 0, 0, 1, 1, 0, 0, 0, 0, 0, 1, 0, 1, 1, 0, 0, 0, 0, 0, 0,\n",
       "       1, 0, 0, 0, 0, 0, 0, 0, 1, 0, 0, 0, 0, 0, 0, 0, 1, 1, 0, 1, 0, 0,\n",
       "       0, 1, 1, 1, 0, 0, 0, 0, 0, 1, 0, 0, 0, 0, 0, 0, 0, 0, 1, 1, 0, 0,\n",
       "       0, 1, 1, 0, 1, 1, 0, 0, 0, 0, 0, 0, 1, 0, 0, 0, 0, 1, 1, 1, 1, 0,\n",
       "       0, 0, 0, 0, 0, 0, 0, 0, 0, 0, 0, 0, 0, 0, 0, 0, 0, 0, 0, 0, 0, 0,\n",
       "       0, 0, 0, 0])"
      ]
     },
     "execution_count": 7,
     "metadata": {},
     "output_type": "execute_result"
    }
   ],
   "source": [
    "data_arr[0]"
   ]
  },
  {
   "cell_type": "code",
   "execution_count": 8,
   "id": "44718e23",
   "metadata": {},
   "outputs": [
    {
     "data": {
      "text/plain": [
       "array([0, 0, 0, 0, 0, 1, 0, 0, 0, 0, 0, 0, 0, 0, 1, 1, 0, 0, 0, 1, 1, 0,\n",
       "       1, 1, 0, 0, 0, 0, 0, 0, 1, 0, 0, 0, 0, 1, 1, 1, 1, 0, 0, 0, 0, 0,\n",
       "       0, 0, 0, 0, 0, 0, 0, 0, 0, 0, 0, 0, 0, 0, 0, 0, 0, 0, 0, 0, 0, 0,\n",
       "       0, 0, 0, 0, 0, 0, 0, 0, 0, 0, 0, 0, 0, 0, 0, 0, 0, 0, 0, 0, 0, 0,\n",
       "       0, 0, 0, 0, 0, 0, 0, 0, 0, 0, 0, 0, 0, 0, 0, 0, 0, 0, 0, 0, 0, 0,\n",
       "       0, 0, 0, 0])"
      ]
     },
     "execution_count": 8,
     "metadata": {},
     "output_type": "execute_result"
    }
   ],
   "source": [
    "data_arr[1]"
   ]
  },
  {
   "cell_type": "code",
   "execution_count": 9,
   "id": "33f250b4",
   "metadata": {},
   "outputs": [],
   "source": [
    "s = \"\"\"Lorem ipsum dolor sit amet consectetur adipiscing elit Sed do eiusmod tempor incididunt ut labore et dolore magna aliqua Ut enim ad minim veniam quis nostrud exercitation ullamco laboris nisi ut aliquip ex ea commodo consequat Duis aute irure dolor in reprehenderit in voluptate velit esse cillum dolore eu fugiat nulla pariatur Excepteur sint occaecat cupidatat non proident sunt in culpa qui officia deserunt mollit anim id est laborum Lorem ipsum dolor sit amet consectetur adipiscing elit Sed do eiusmod tempor incididunt ut labore et dolore magna aliqua Ut enim ad minim veniam quis nostrud exercitation ullamco laboris nisi ut aliquip ex ea commodo consequat Duis aute irure dolor in reprehenderit in voluptate velit esse cillum dolore eu fugiat nulla pariatur Excepteur sint occaecat cupidatat non proident sunt in culpa qui officia deserunt mollit anim id est laborum\"\"\""
   ]
  },
  {
   "cell_type": "code",
   "execution_count": 10,
   "id": "aa0fcbce",
   "metadata": {},
   "outputs": [
    {
     "data": {
      "text/plain": [
       "875"
      ]
     },
     "execution_count": 10,
     "metadata": {},
     "output_type": "execute_result"
    }
   ],
   "source": [
    "len(s)"
   ]
  },
  {
   "cell_type": "code",
   "execution_count": 11,
   "id": "d95ccac0",
   "metadata": {},
   "outputs": [
    {
     "data": {
      "text/plain": [
       "'Lorem ipsum dolor sit amet consectetur adipiscing elit Sed do eiusmod tempor incididunt ut labore et dolore magna aliqua Ut enim ad minim veniam quis nostrud exercitation ullamco laboris nisi ut aliquip ex ea commodo consequat Duis aute irure dolor in reprehenderit in voluptate velit esse cillum dolore eu fugiat nulla pariatur Excepteur sint occaecat cupidatat non proident sunt in culpa qui officia deserunt mollit anim id est laborum Lorem ipsum dolor sit amet consectetur adipiscing elit Sed do eiusmod tempor incididunt ut labore et dolore magna aliqua Ut enim ad minim veniam quis nostrud exercitation ullamco laboris nisi ut aliquip ex ea commodo consequat Duis aute irure dolor in reprehenderit in voluptate velit esse cillum dolore eu fugiat nulla pariatur Excepteur sint occaecat cupidatat non proident sunt in culpa qui officia deserunt mollit anim id est laborum'"
      ]
     },
     "execution_count": 11,
     "metadata": {},
     "output_type": "execute_result"
    }
   ],
   "source": [
    "s"
   ]
  }
 ],
 "metadata": {
  "kernelspec": {
   "display_name": "Python 3 (ipykernel)",
   "language": "python",
   "name": "python3"
  },
  "language_info": {
   "codemirror_mode": {
    "name": "ipython",
    "version": 3
   },
   "file_extension": ".py",
   "mimetype": "text/x-python",
   "name": "python",
   "nbconvert_exporter": "python",
   "pygments_lexer": "ipython3",
   "version": "3.9.7"
  }
 },
 "nbformat": 4,
 "nbformat_minor": 5
}
