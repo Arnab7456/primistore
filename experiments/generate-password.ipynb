{
 "cells": [
  {
   "cell_type": "code",
   "execution_count": 38,
   "id": "5ee6df52",
   "metadata": {},
   "outputs": [],
   "source": [
    "import random\n",
    "import math\n",
    "\n",
    "\n",
    "def shuffle_string(input_string):\n",
    "    char_list = list(input_string)\n",
    "    random.shuffle(char_list)\n",
    "    shuffled_string = ''.join(char_list)\n",
    "    \n",
    "    return shuffled_string\n",
    "\n",
    "def generate_password(length):\n",
    "    uppercase = [chr(i) for i in range(65, 65 + 26)]\n",
    "    lowercase = [chr(i) for i in range(97, 97 + 26)]\n",
    "    \n",
    "    alphabets = uppercase + lowercase\n",
    "    numbers = [str(i) for i in range(10)]\n",
    "    specials = ['@', '#', '*', '(', ')', '+', '=', '{', '}', '/', '?', '~', ';', ',', '.', '-', '_']\n",
    "    \n",
    "    num_specials = math.floor(0.20 * length)\n",
    "    num_numbers = math.floor(0.20 * length)\n",
    "    num_alphabets = math.floor(0.60 * length)\n",
    "    \n",
    "    sum_val = num_specials + num_numbers + num_alphabets\n",
    "    diff = length - sum_val\n",
    "    num_alphabets += diff if diff > 0 else 0\n",
    "    \n",
    "    \n",
    "    password = \"\".join([random.choice(alphabets) for _ in range(num_alphabets)])\n",
    "    password += \"\".join([random.choice(numbers) for _ in range(num_numbers)])\n",
    "    password += \"\".join([random.choice(specials) for _ in range(num_specials)])\n",
    "    \n",
    "    return shuffle_string(password)"
   ]
  }
 ],
 "metadata": {
  "kernelspec": {
   "display_name": "Python 3 (ipykernel)",
   "language": "python",
   "name": "python3"
  },
  "language_info": {
   "codemirror_mode": {
    "name": "ipython",
    "version": 3
   },
   "file_extension": ".py",
   "mimetype": "text/x-python",
   "name": "python",
   "nbconvert_exporter": "python",
   "pygments_lexer": "ipython3",
   "version": "3.9.7"
  }
 },
 "nbformat": 4,
 "nbformat_minor": 5
}
